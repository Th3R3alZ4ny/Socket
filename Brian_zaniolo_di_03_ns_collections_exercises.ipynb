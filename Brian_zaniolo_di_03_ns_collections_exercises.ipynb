{
  "cells": [
    {
      "cell_type": "markdown",
      "metadata": {
        "id": "YGbAWvI8o3ob"
      },
      "source": [
        "# Esercizi con le Collezioni"
      ]
    },
    {
      "cell_type": "markdown",
      "metadata": {
        "id": "jJM__tM4zjsy"
      },
      "source": [
        "# 0) Registro voti [[Esercizio su HackerRank](https://www.hackerrank.com/challenges/finding-the-percentage/problem)]\n",
        "Hai a disposizione una lista di *N* studenti. Ogni lista contiene il nome dello studente e il suo voto in Matematica, Fisica e Chimica. I voti possono essere numeri con la virgola. Un utente inserisci un intero *N* seguito da il nome e i voti di N studenti. Il programma deve salvare le liste in un dizionario. Alla fine l'utente inserirà il nome di uno studente, il programma dovrà dare in output la media dei voti di tale studente arrotandata a due cifre dopo la virgola.\n",
        "<br><br>\n",
        "**ESEMPIO DI INPUT**\n",
        "<br>\n",
        "3<br>\n",
        "Krishna 67 68 69<br>\n",
        "Arjun 70 98 63<br>\n",
        "Malika 52 56 60<br>\n",
        "Malika<br>\n",
        "<br>\n",
        "**ESEMPIO DI OUTPUT**\n",
        "<br>\n",
        "56.00\n",
        "<br><br>\n",
        "**SUGGERIMENTO**\n",
        "Possiamo applicare una trasformazione a tutti gli elementi di una collezione utilizzando la funzione *map*, questa funzione ritorna un generatore, di cui parleremo più avanti, che possiamo riconvertire in una collezione."
      ]
    },
    {
      "cell_type": "code",
      "execution_count": null,
      "metadata": {
        "id": "tHdjrKsmb_6X"
      },
      "outputs": [],
      "source": [
        "studenti=[[\"rossi\",5,6,7],[\"Matteo\",4,5,6],[\"Luca\",5,8,6]];\n",
        "print(studenti);\n",
        "for studente in studenti:\n",
        "  print(studente);"
      ]
    },
    {
      "cell_type": "code",
      "execution_count": null,
      "metadata": {
        "id": "PKzHgKb-dJZx"
      },
      "outputs": [],
      "source": [
        "for studente in studenti:\n",
        "  media=(studente[1]+studente[2]+studente[3])/3;\n",
        "print(f\"Nome:{studente[0]}    Media:{media}\");"
      ]
    },
    {
      "cell_type": "code",
      "execution_count": null,
      "metadata": {
        "colab": {
          "base_uri": "https://localhost:8080/"
        },
        "id": "eFZaiih4emvn",
        "outputId": "a7443932-2701-4191-c4fd-37f998113c27"
      },
      "outputs": [
        {
          "name": "stdout",
          "output_type": "stream",
          "text": [
            "Quanti Studenti vuoi inserire? 1\n",
            "Inserisci il nome dello studente: fdgd\n",
            "Inserisci il primo voto: 6\n",
            "Inserisci il secondo voto: 6\n",
            "Inserisci il terzo voto: 6\n",
            "Nome: fdgd  Media: 6.0\n"
          ]
        }
      ],
      "source": [
        "n=int(input(\"Quanti Studenti vuoi inserire? \"));\n",
        "studenti=[];\n",
        "for i in range(0,n):\n",
        "  studenti.append([input(\"Inserisci il nome dello studente: \"),\n",
        "                   int(input(f\"Inserisci il primo voto: \")),\n",
        "                   int(input(f\"Inserisci il secondo voto: \")),\n",
        "                   int(input(f\"Inserisci il terzo voto: \"))]);\n",
        "for stud in studenti:\n",
        "  print(f\"Nome: {stud[0]}  Media: {(stud[1]+stud[2]+stud[3])/3}\");"
      ]
    },
    {
      "cell_type": "code",
      "execution_count": null,
      "metadata": {
        "colab": {
          "base_uri": "https://localhost:8080/"
        },
        "id": "lsS8d4_pQWSw",
        "outputId": "eec1f55d-e037-4fd0-f9ec-ef90727e83ef"
      },
      "outputs": [
        {
          "name": "stdout",
          "output_type": "stream",
          "text": [
            "Rossi\n",
            "Verdi\n",
            "Bianchi\n",
            "6.0\n",
            "Rossi\n",
            "Verdi\n",
            "Bianchi\n",
            "5.0\n",
            "Rossi\n",
            "Verdi\n",
            "Bianchi\n",
            "6.333333333333333\n"
          ]
        }
      ],
      "source": [
        "dictVoti={\"Rossi\":[5,6,7], \"Verdi\":[5,4,6], \"Bianchi\":[6,7,6]}\n",
        "for s in dictVoti.values():\n",
        "  media=0;\n",
        "  for v in s:\n",
        "    media+=v;\n",
        "  for key in dictVoti.items():\n",
        "    print(key[0]);  \n",
        "  media/=len(s);\n",
        "  print(media);"
      ]
    },
    {
      "cell_type": "code",
      "execution_count": null,
      "metadata": {
        "colab": {
          "base_uri": "https://localhost:8080/"
        },
        "id": "S9UUYfkFQJs8",
        "outputId": "b35cf3b7-d53b-4acd-9851-a97e20445767"
      },
      "outputs": [
        {
          "name": "stdout",
          "output_type": "stream",
          "text": [
            "La media di Rossi è: 6.0\n",
            "La media di Verdi è: 5.0\n",
            "La media di Bianchi è: 6.333333333333333\n"
          ]
        }
      ],
      "source": [
        "for studente,voti in dictVoti.items():\n",
        "  media=0\n",
        "  for v in voti:\n",
        "    media+=v\n",
        "  media/=len(voti)\n",
        "  print(f\"La media di {studente} è: {media}\")"
      ]
    },
    {
      "cell_type": "code",
      "execution_count": null,
      "metadata": {
        "colab": {
          "base_uri": "https://localhost:8080/"
        },
        "id": "W14T1UBoRLAI",
        "outputId": "e15d831d-1f6d-4ccd-e5c3-f272bc396235"
      },
      "outputs": [
        {
          "name": "stdout",
          "output_type": "stream",
          "text": [
            "Quanti Studenti vuoi inserire? 1\n",
            "Inserisci il nome dello studente: ciao\n",
            "Inserisci il voto di Matematica: 5\n",
            "Inserisci il voto di Fisica: 7\n",
            "Inserisci il voto di Chimica: 8\n",
            "Inserisci il nome dello studente da visualizzare: ciao\n",
            "La media di ciao è: 6.666666666666667\n"
          ]
        }
      ],
      "source": [
        "n=int(input(\"Quanti Studenti vuoi inserire? \"));\n",
        "materie=[\"Matematica\",\"Fisica\",\"Chimica\"];\n",
        "dictAlunni={}\n",
        "voti=[];\n",
        "for i in range(0,n):\n",
        "  nome=input(\"Inserisci il nome dello studente: \")\n",
        "  for m in materie:\n",
        "    voti.append(int(input(f\"Inserisci il voto di {m}: \")));\n",
        "  dictAlunni[nome]=voti\n",
        "  nomeStud=input(\"Inserisci il nome dello studente da visualizzare: \")\n",
        "  try:\n",
        "    media=0\n",
        "    for v in dictAlunni[nomeStud]:\n",
        "      media+=v\n",
        "    media/=len(dictAlunni[nomeStud])\n",
        "    print(f\"La media di {nomeStud} è: {media}\")\n",
        "  except:\n",
        "    print(\"Studente non trovato\")\n",
        "  "
      ]
    },
    {
      "cell_type": "markdown",
      "metadata": {
        "id": "m5Tj7Xr6OzTQ"
      },
      "source": [
        "## 1. Pagelle scolastiche\n",
        "Creiamo una struttura dati in grado di contenere i record di diversi studenti. La struttura sarà composta da un dizionario, con come chiave il nome dello studente e come valore una lista. La lista deve contenere delle tuple e ogni tupla deve avere alla prima posizione in nome della materia, alla seconda il voto e alla terza le ore di assenza. \n",
        "<table>\n",
        "    <tr><td>Studente</td><td>Matematica</td><td>Italiano</td><td>Inglese</td><td>Storia</td><td>Geografia</td></tr>\n",
        "    <tr><td>Giuseppe Gullo</td><td>VOTO: 9, ASSENZE: 0</td><td>VOTO: 7, ASSENZE: 3</td><td>VOTO: 7.5, ASSENZE: 4</td><td>VOTO: 7.5, ASSENZE: 4</td><td>VOTO: 5, ASSENZE: 7</td></tr>\n",
        "    <tr><td>Antonio Barbera</td><td>VOTO: 8, ASSENZE: 1</td><td>VOTO: 6, ASSENZE: 1</td><td>VOTO: 9.5, ASSENZE: 0</td><td>VOTO: 8, ASSENZE: 2</td><td>VOTO: 8, ASSENZE: 1</td></tr>\n",
        "    <tr><td>Nicola Spina</td><td>VOTO: 7.5, ASSENZE: 2</td><td>VOTO: 6, ASSENZE: 2</td><td>VOTO: 4, ASSENZE: 3</td><td>VOTO: 8.5, ASSENZE: 2</td><td>VOTO: 8, ASSENZE: 2</td></tr></table>\n",
        "\n",
        "1. Popola la struttura dati con i dati qui sopra.\n",
        "2. Aggiungi alla struttura dati la pagella di un nuovo studente chiamato Albert Einstein, con 10 in tutte le materie e nessu na ora di assenza.\n",
        "3. Aggiungi Fisica a tutte le pagelle con le seguenti votazioni/assenze: Giuseppe Gullo 9.5/0, Antonino Barbera 8/1, Nicola Spina 8/3, Albert Einstein 10/0.\n",
        "4. Stampa la tupla con le informazioni sulla materia Matematica per Giuseppe Gullo\n",
        "5. Stampa la tupla con le informazioni sulla materia Inglese per Nicola Spina\n",
        "6. Stampa solo il voto di Antonio Barbera in Geografia.\n",
        "7. Stampa la media di tutte le materie di Nicola Spina.\n",
        "8. Stampa la media di tutti i voti senza distinguere gli studenti.\n",
        "9. Stampa la materia in cui ha fatto più assenze lo studente Nicola Spina.\n",
        "\n"
      ]
    },
    {
      "cell_type": "code",
      "execution_count": null,
      "metadata": {
        "colab": {
          "base_uri": "https://localhost:8080/"
        },
        "id": "d6emNrZ8OXrl",
        "outputId": "e4b98cf2-12b4-4aab-b1f7-6031278cbce1"
      },
      "outputs": [
        {
          "name": "stdout",
          "output_type": "stream",
          "text": [
            "('Storia', 7.5, 4) <class 'tuple'>\n",
            "Voto di Giuseppe Gullo di matematica: 9| Assenze: 0\n",
            "Voto di Nicola Spina di inglese: 7.5| Assenze: 8\n",
            "Voto di Antonio Barbera di geografia: 5\n",
            "Media di Nicola Spina: 7.5\n",
            "Media di tutti gli alunni: 7.916666666666667\n"
          ]
        }
      ],
      "source": [
        "import pprint\n",
        "pp=pprint.PrettyPrinter(indent=4)\n",
        "#Punto 1\n",
        "pagella={\"Giuseppe Gullo\":[(\"Matematica\",9,0),(\"Italiano\",7,3),(\"Inglese\",7.5,4),(\"Storia\",7.5,4),(\"Geografia\",5,7)],\n",
        "         \"Antonio Barbera\":[(\"Matematica\",7,0),(\"Italiano\",7,4),(\"Inglese\",7.5,5),(\"Storia\",9.5,4),(\"Geografia\",5,3)],\n",
        "         \"Nicola Spina\":[(\"Matematica\",7,4),(\"Italiano\",4,4),(\"Inglese\",7.5,8),(\"Storia\",9.5,1),(\"Geografia\",9,3)]}\n",
        "print(pagella[\"Giuseppe Gullo\"][3],type(pagella[\"Giuseppe Gullo\"][3]))\n",
        "#pp.pprint(pagella)\n",
        "#Punto 2\n",
        "pagella[\"Albert Einstein\"]=[(\"Matematica\",10,0),(\"Italiano\",10,0),(\"Inglese\",10,0),(\"Storia\",10,0),(\"Geografia\",10,0)]\n",
        "#pp.pprint(pagella)\n",
        "#Punto 3\n",
        "pagella[\"Albert Einstein\"].append((\"Fisica\",10,0))\n",
        "pagella[\"Giuseppe Gullo\"].append((\"Fisica\",7,2))\n",
        "pagella[\"Antonio Barbera\"].append((\"Fisica\",6,0))\n",
        "pagella[\"Nicola Spina\"].append((\"Fisica\",8,3))\n",
        "#pp.pprint(pagella)\n",
        "#Punto 4\n",
        "print(\"Voto di Giuseppe Gullo di matematica: \" +str(pagella[\"Giuseppe Gullo\"][0][1])+\"| Assenze: \"+str(pagella[\"Giuseppe Gullo\"][0][2]))\n",
        "#Punto 5\n",
        "print(\"Voto di Nicola Spina di inglese: \" +str(pagella[\"Nicola Spina\"][2][1])+\"| Assenze: \"+str(pagella[\"Nicola Spina\"][2][2]))\n",
        "#Punto 6\n",
        "print(\"Voto di Antonio Barbera di geografia: \" +str(pagella[\"Antonio Barbera\"][4][1]))\n",
        "#Punto 7\n",
        "media=0\n",
        "cont=0\n",
        "for voto in pagella[\"Nicola Spina\"]:\n",
        "  media+=voto[1]\n",
        "  cont+=1\n",
        "print(\"Media di Nicola Spina: \" +str(media/cont))\n",
        "#Punto 8\n",
        "media=0\n",
        "cont=0\n",
        "\n",
        "for stud in pagella.values():\n",
        "  for mat in stud:\n",
        "    media+=mat[1]\n",
        "    cont+=1\n",
        "print(\"Media di tutti gli alunni: \"+str(media/cont))"
      ]
    },
    {
      "cell_type": "markdown",
      "metadata": {
        "id": "6UVBFYAyKrtL"
      },
      "source": [
        "## 2. Gioco del tris ([risorsa](https://www.elexpo.net/archivio/sistemi/libro_automate_python/05.pdf))\n",
        "Completare il codice seguente aggiungendo i seguenti controlli:\n",
        "\n",
        "1.   Posizione libera/occupata\n",
        "2.   Vittoria\n",
        "\n"
      ]
    },
    {
      "cell_type": "code",
      "execution_count": null,
      "metadata": {
        "colab": {
          "base_uri": "https://localhost:8080/"
        },
        "id": "3zrwz3mZLOlD",
        "outputId": "ae74eb19-5eb8-4d18-b41b-e999c473c589"
      },
      "outputs": [
        {
          "name": "stdout",
          "output_type": "stream",
          "text": [
            " | | \n",
            "-+-+-\n",
            " | | \n",
            "-+-+-\n",
            " | | \n",
            "Turno di X. Quale posizione scegli?\n",
            "top-L\n",
            "X| | \n",
            "-+-+-\n",
            " | | \n",
            "-+-+-\n",
            " | | \n",
            "Turno di O. Quale posizione scegli?\n",
            "mid-L\n",
            "X| | \n",
            "-+-+-\n",
            "O| | \n",
            "-+-+-\n",
            " | | \n",
            "Turno di X. Quale posizione scegli?\n",
            "mid-M\n",
            "X| | \n",
            "-+-+-\n",
            "O|X| \n",
            "-+-+-\n",
            " | | \n",
            "Turno di O. Quale posizione scegli?\n",
            "low-M\n",
            "X| | \n",
            "-+-+-\n",
            "O|X| \n",
            "-+-+-\n",
            " |O| \n",
            "Turno di X. Quale posizione scegli?\n",
            "low-R\n",
            "tris su diagonale 1, ha vinto X\n",
            "X| | \n",
            "-+-+-\n",
            "O|X| \n",
            "-+-+-\n",
            " |O|X\n",
            "partita terminata\n"
          ]
        }
      ],
      "source": [
        "theBoard = {'top-L': ' ', 'top-M': ' ', 'top-R': ' ',\n",
        "            'mid-L': ' ', 'mid-M': ' ', 'mid-R': ' ',\n",
        "            'low-L': ' ', 'low-M': ' ', 'low-R': ' '}\n",
        "def printBoard(board):\n",
        "    print(board['top-L'] + '|' + board['top-M'] + '|' + board['top-R'])\n",
        "    print('-+-+-')\n",
        "    print(board['mid-L'] + '|' + board['mid-M'] + '|' + board['mid-R'])\n",
        "    print('-+-+-')\n",
        "    print(board['low-L'] + '|' + board['low-M'] + '|' + board['low-R'])\n",
        "\n",
        "def controlloPosizione(board, posizione):\n",
        "  if board[posizione] == ' ':\n",
        "    return 0\n",
        "  else:\n",
        "    return 1\n",
        "\n",
        "def controlloVittoria(board):\n",
        "  if (board['top-L'] == board['top-M'] == board['top-R']) and (board['top-L'] != ' '):\n",
        "    print('tris su riga 1, ha vinto ' + turn)\n",
        "    return 1\n",
        "  elif (board['mid-L'] == board['mid-M'] == board['mid-R']) and (board['mid-L'] != ' '):\n",
        "    print('tris su riga 2, ha vinto ' + turn)\n",
        "    return 1\n",
        "  elif (board['low-L'] == board['low-M'] == board['low-R']) and (board['low-L'] != ' '):\n",
        "    print('tris su riga 3, ha vinto ' + turn)\n",
        "    return 1\n",
        "  elif (board['top-L'] == board['mid-L'] == board['low-L']) and (board['low-L'] != ' '):\n",
        "    print('tris su colonna 1, ha vinto ' + turn)\n",
        "    return 1\n",
        "  elif (board['top-M'] == board['mid-M'] == board['low-M']) and (board['low-M'] != ' '):\n",
        "    print('tris su colonna 2, ha vinto ' + turn)\n",
        "    return 1\n",
        "  elif (board['top-R'] == board['mid-R'] == board['low-R']) and (board['low-R'] != ' '):\n",
        "    print('tris su colonna 3, ha vinto ' + turn)\n",
        "    return 1\n",
        "  elif (board['top-L'] == board['mid-M'] == board['low-R']) and (board['low-R'] != ' '):\n",
        "    print('tris su diagonale 1, ha vinto ' + turn)\n",
        "    return 1\n",
        "  elif (board['top-R'] == board['mid-M'] == board['low-L']) and (board['low-L'] != ' '):\n",
        "    print('tris su diagonale 2, ha vinto ' + turn)\n",
        "    return 1\n",
        "\n",
        "turn = 'X'\n",
        "\n",
        "for i in range(9):\n",
        "    printBoard(theBoard)\n",
        "    print('Turno di ' + turn + '. Quale posizione scegli?')\n",
        "    move = input()\n",
        "\n",
        "    while controlloPosizione(theBoard, move)==1:\n",
        "      print('Posizione occupata. Quale posizione scegli?')\n",
        "      move = input()\n",
        "\n",
        "    theBoard[move] = turn\n",
        "\n",
        "    if controlloVittoria(theBoard)==1:\n",
        "      break\n",
        "\n",
        "    if turn == 'X':\n",
        "        turn = 'O'\n",
        "    else:\n",
        "        turn = 'X'\n",
        "\n",
        "printBoard(theBoard)\n",
        "print('partita terminata')"
      ]
    },
    {
      "cell_type": "markdown",
      "metadata": {
        "id": "793a0nEbJ0x1"
      },
      "source": [
        "# La mia rubrica 1\n",
        "\n",
        "  Scrivi un programma per la gestione di una rubrica telefonica.\n",
        "```\n",
        "  Definisci un dizionario che rappresenti una rubrica di contatti, l'unico vincolo è di inserire almeno il nome e il numero di telefono.\n",
        "  Definisci un altro oggetto che rappresenti la lista dei contatti (array di oggetti contatto).\n",
        "  Implementa i metodi dell'oggetto per le seguenti operazioni:\n",
        "      - Inserimento di un nuovo contatto\n",
        "      - Visualizzazione dell'intera lista contatti\n",
        "      - Modifica di uno contatto passando in input l'indice della posizione nell'array\n",
        "      - Cancellazione di un contatto passando in input l'indice della posizione nell'array\n",
        "      - Ricerca passando il nome e restituendo tutti i dati del singolo contatto.\n",
        "```\n",
        "\n"
      ]
    },
    {
      "cell_type": "markdown",
      "metadata": {
        "id": "3y-1efyMJ90Y"
      },
      "source": [
        "Creare una struttura dati in grado di contenere i record di diversi contatti. La rubrica sarà composta da un dizionario, come chiave il cognome e il nome e come valore una lista [telefono, indirizzo, email]. \n",
        "<table>\n",
        "    <tr><td>Contatto</td><td>Dati</td> </tr>\n",
        "    <tr><td>Giuseppe Gullo</td><td>3393527822, Indirizzo 1, ggullo@mail.it</td></tr>\n",
        "    <tr><td>Antonio Barbera</td><td>3393228442, Indirizzo 2, abarbera@mail.it</td> </tr>\n",
        "    <tr><td>Nicola Spina</td><td>3383522812, Indirizzo 3, nspina@mail.it</td></tr></table>"
      ]
    },
    {
      "cell_type": "markdown",
      "metadata": {
        "id": "PbmNrD4RKHl8"
      },
      "source": [
        "Implementa un menu per eseguire i seguenti compiti:\n",
        "1. Popola la rubrica\n",
        "2. Aggiungi alla rubrica un nuovo contatto\n",
        "3. Elimina dalla rubrica un contatto\n",
        "4. Mostra i dati di un contatto\n",
        "5. Mostra i dati di tutti i contatti\n",
        "6. Modifica i dati di un contatto\n",
        "\n",
        "Vincoli:\n",
        "1. Tutti i campi devono essere compilati\n",
        "2. Il telefono deve essere di 9 cifre\n",
        "3. Il campo email deve contenere il simbolo @\n",
        "4. Un contatto può essere aggiunto solo se non è già presente\n",
        "5. Un contatto può essere eliminato o modificato solo se è già presente\n",
        "6. Non è possibile modificare Nome e Cognome\n",
        "7. Si devono utilizzare procedure aggiuntive per la lettura dei dati di contatto \n",
        "\n",
        "[Metodi dizionari](https://www.programmareinpython.it/video-corso-python-base/17-i-dizionari/)"
      ]
    },
    {
      "cell_type": "markdown",
      "metadata": {
        "id": "ySMK0IWYKSKU"
      },
      "source": [
        "``` \n",
        "0) Esci\n",
        "1) Popola\n",
        "2) Aggiungi\n",
        "3) Elimina\n",
        "4) Cerca\n",
        "5) Mostra tutti\n",
        "6) Modifica\n",
        "Scegli :1\n",
        "\n",
        "Quanti contatti vuoi inserire?1\n",
        "Inserimento 1 contatto:\n",
        "\n",
        "Nome = nome1 \n",
        "Cognome = cognome1\n",
        "Telefono (9 cifre) = 1234567\n",
        "Telefono (9 cifre) = 123456789\n",
        "Indirizzo  = indirizzo1\n",
        "Email (@ richiesta) = miamailumanet.it\n",
        "Email (@ richiesta) = miamail@umanet.it\n",
        "{'COGNOME1 NOME1': ['123456789', 'indirizzo1', 'miamail@umanet.it']}\n",
        "\n",
        "0) Esci\n",
        "1) Popola\n",
        "2) Aggiungi\n",
        "3) Elimina\n",
        "4) Cerca\n",
        "5) Mostra tutti\n",
        "6) Modifica\n",
        "Scegli :2\n",
        "\n",
        "Aggiunta di un contatto:\n",
        "\n",
        "Nome = nome2\n",
        "Cognome = cognome2\n",
        "Telefono (9 cifre) = 987654321\n",
        "Indirizzo  = indirizzo2\n",
        "Email (@ richiesta) = miamail2@umanet.it\n",
        "{   'COGNOME1 NOME1': ['123456789', 'indirizzo1', 'miamail@umanet.it'],\n",
        "    'COGNOME2 NOME2': ['987654321', 'indirizzo2', 'miamail2@umanet.it']}\n",
        "\n",
        "0) Esci\n",
        "1) Popola\n",
        "2) Aggiungi\n",
        "3) Elimina\n",
        "4) Cerca\n",
        "5) Mostra tutti\n",
        "6) Modifica\n",
        "Scegli :3\n",
        "\n",
        "Cancellazione di un contatto:\n",
        "\n",
        "Nome = nome1\n",
        "Cognome = cognome1\n",
        "Contatto cancellato!\n",
        "{'COGNOME2 NOME2': ['987654321', 'indirizzo2', 'miamail2@umanet.it']}\n",
        "\n",
        "0) Esci\n",
        "1) Popola\n",
        "2) Aggiungi\n",
        "3) Elimina\n",
        "4) Cerca\n",
        "5) Mostra tutti\n",
        "6) Modifica\n",
        "Scegli :4\n",
        "\n",
        "Mostra dati di un contatto:\n",
        "\n",
        "Nome = nome2\n",
        "Cognome = cognome2\n",
        "Dati contatto:\n",
        "['987654321', 'indirizzo2', 'miamail2@umanet.it']\n",
        "\n",
        "0) Esci\n",
        "1) Popola\n",
        "2) Aggiungi\n",
        "3) Elimina\n",
        "4) Cerca\n",
        "5) Mostra tutti\n",
        "6) Modifica\n",
        "Scegli :6\n",
        "\n",
        "Modifica dati di un contatto:\n",
        "\n",
        "Nome = nome2\n",
        "Cognome = cognome2\n",
        "Dati del contatto:COGNOME2 NOME2\n",
        "['987654321', 'indirizzo2', 'miamail2@umanet.it']\n",
        "Aggiorna i dati (lascia in bianco i campi che non vuoi modificare):\n",
        "Telefono (9 cifre) = \n",
        "Indirizzo  = \n",
        "Email (@ richiesta) = nuovaemail@umanet.it\n",
        "\n",
        "0) Esci\n",
        "1) Popola\n",
        "2) Aggiungi\n",
        "3) Elimina\n",
        "4) Cerca\n",
        "5) Mostra tutti\n",
        "6) Modifica\n",
        "Scegli :5\n",
        "\n",
        "TUTTI I CONTATTI:\n",
        "{'COGNOME2 NOME2': ['987654321', 'indirizzo2', 'nuovaemail@umanet.it']}\n",
        "``` "
      ]
    },
    {
      "cell_type": "code",
      "execution_count": null,
      "metadata": {
        "colab": {
          "base_uri": "https://localhost:8080/",
          "height": 1000
        },
        "id": "u3_FXm5xKS_x",
        "outputId": "394af54e-ead1-46ed-9343-37489b489f26"
      },
      "outputs": [
        {
          "name": "stdout",
          "output_type": "stream",
          "text": [
            "0) Esci\n",
            "1) Popola\n",
            "2) Aggiungi\n",
            "3) Elimina\n",
            "4) Cerca\n",
            "5) Mostra tutti\n",
            "6) Modifica\n",
            "Scegli :2\n",
            "Aggiunta di un singolo contatto\n",
            "Inserisci il nome =s\n",
            "Inserisci il cognome =s\n",
            "Inserisci il telefono =111111111\n",
            "Inserisci indirizzo =dsdfsdf\n",
            "Inserisci email (@ richiesta)sdfds@ds\n",
            "{'s s': ['111111111', 'dsdfsdf', 'sdfds@ds']}\n",
            "0) Esci\n",
            "1) Popola\n",
            "2) Aggiungi\n",
            "3) Elimina\n",
            "4) Cerca\n",
            "5) Mostra tutti\n",
            "6) Modifica\n",
            "Scegli :2\n",
            "Aggiunta di un singolo contatto\n",
            "Inserisci il nome =s\n",
            "Inserisci il cognome =s\n",
            "Inserisci il telefono =111111111\n",
            "Inserisci indirizzo =asfasdf\n",
            "Inserisci email (@ richiesta)asdafs@asf\n",
            "Contatto già presente\n",
            "0) Esci\n",
            "1) Popola\n",
            "2) Aggiungi\n",
            "3) Elimina\n",
            "4) Cerca\n",
            "5) Mostra tutti\n",
            "6) Modifica\n"
          ]
        },
        {
          "ename": "KeyboardInterrupt",
          "evalue": "ignored",
          "output_type": "error",
          "traceback": [
            "\u001b[0;31m---------------------------------------------------------------------------\u001b[0m",
            "\u001b[0;31mKeyboardInterrupt\u001b[0m                         Traceback (most recent call last)",
            "\u001b[0;32m/usr/local/lib/python3.7/dist-packages/ipykernel/kernelbase.py\u001b[0m in \u001b[0;36m_input_request\u001b[0;34m(self, prompt, ident, parent, password)\u001b[0m\n\u001b[1;32m    728\u001b[0m             \u001b[0;32mtry\u001b[0m\u001b[0;34m:\u001b[0m\u001b[0;34m\u001b[0m\u001b[0;34m\u001b[0m\u001b[0m\n\u001b[0;32m--> 729\u001b[0;31m                 \u001b[0mident\u001b[0m\u001b[0;34m,\u001b[0m \u001b[0mreply\u001b[0m \u001b[0;34m=\u001b[0m \u001b[0mself\u001b[0m\u001b[0;34m.\u001b[0m\u001b[0msession\u001b[0m\u001b[0;34m.\u001b[0m\u001b[0mrecv\u001b[0m\u001b[0;34m(\u001b[0m\u001b[0mself\u001b[0m\u001b[0;34m.\u001b[0m\u001b[0mstdin_socket\u001b[0m\u001b[0;34m,\u001b[0m \u001b[0;36m0\u001b[0m\u001b[0;34m)\u001b[0m\u001b[0;34m\u001b[0m\u001b[0;34m\u001b[0m\u001b[0m\n\u001b[0m\u001b[1;32m    730\u001b[0m             \u001b[0;32mexcept\u001b[0m \u001b[0mException\u001b[0m\u001b[0;34m:\u001b[0m\u001b[0;34m\u001b[0m\u001b[0;34m\u001b[0m\u001b[0m\n",
            "\u001b[0;32m/usr/local/lib/python3.7/dist-packages/jupyter_client/session.py\u001b[0m in \u001b[0;36mrecv\u001b[0;34m(self, socket, mode, content, copy)\u001b[0m\n\u001b[1;32m    802\u001b[0m         \u001b[0;32mtry\u001b[0m\u001b[0;34m:\u001b[0m\u001b[0;34m\u001b[0m\u001b[0;34m\u001b[0m\u001b[0m\n\u001b[0;32m--> 803\u001b[0;31m             \u001b[0mmsg_list\u001b[0m \u001b[0;34m=\u001b[0m \u001b[0msocket\u001b[0m\u001b[0;34m.\u001b[0m\u001b[0mrecv_multipart\u001b[0m\u001b[0;34m(\u001b[0m\u001b[0mmode\u001b[0m\u001b[0;34m,\u001b[0m \u001b[0mcopy\u001b[0m\u001b[0;34m=\u001b[0m\u001b[0mcopy\u001b[0m\u001b[0;34m)\u001b[0m\u001b[0;34m\u001b[0m\u001b[0;34m\u001b[0m\u001b[0m\n\u001b[0m\u001b[1;32m    804\u001b[0m         \u001b[0;32mexcept\u001b[0m \u001b[0mzmq\u001b[0m\u001b[0;34m.\u001b[0m\u001b[0mZMQError\u001b[0m \u001b[0;32mas\u001b[0m \u001b[0me\u001b[0m\u001b[0;34m:\u001b[0m\u001b[0;34m\u001b[0m\u001b[0;34m\u001b[0m\u001b[0m\n",
            "\u001b[0;32m/usr/local/lib/python3.7/dist-packages/zmq/sugar/socket.py\u001b[0m in \u001b[0;36mrecv_multipart\u001b[0;34m(self, flags, copy, track)\u001b[0m\n\u001b[1;32m    582\u001b[0m         \"\"\"\n\u001b[0;32m--> 583\u001b[0;31m         \u001b[0mparts\u001b[0m \u001b[0;34m=\u001b[0m \u001b[0;34m[\u001b[0m\u001b[0mself\u001b[0m\u001b[0;34m.\u001b[0m\u001b[0mrecv\u001b[0m\u001b[0;34m(\u001b[0m\u001b[0mflags\u001b[0m\u001b[0;34m,\u001b[0m \u001b[0mcopy\u001b[0m\u001b[0;34m=\u001b[0m\u001b[0mcopy\u001b[0m\u001b[0;34m,\u001b[0m \u001b[0mtrack\u001b[0m\u001b[0;34m=\u001b[0m\u001b[0mtrack\u001b[0m\u001b[0;34m)\u001b[0m\u001b[0;34m]\u001b[0m\u001b[0;34m\u001b[0m\u001b[0;34m\u001b[0m\u001b[0m\n\u001b[0m\u001b[1;32m    584\u001b[0m         \u001b[0;31m# have first part already, only loop while more to receive\u001b[0m\u001b[0;34m\u001b[0m\u001b[0;34m\u001b[0m\u001b[0;34m\u001b[0m\u001b[0m\n",
            "\u001b[0;32mzmq/backend/cython/socket.pyx\u001b[0m in \u001b[0;36mzmq.backend.cython.socket.Socket.recv\u001b[0;34m()\u001b[0m\n",
            "\u001b[0;32mzmq/backend/cython/socket.pyx\u001b[0m in \u001b[0;36mzmq.backend.cython.socket.Socket.recv\u001b[0;34m()\u001b[0m\n",
            "\u001b[0;32mzmq/backend/cython/socket.pyx\u001b[0m in \u001b[0;36mzmq.backend.cython.socket._recv_copy\u001b[0;34m()\u001b[0m\n",
            "\u001b[0;32m/usr/local/lib/python3.7/dist-packages/zmq/backend/cython/checkrc.pxd\u001b[0m in \u001b[0;36mzmq.backend.cython.checkrc._check_rc\u001b[0;34m()\u001b[0m\n",
            "\u001b[0;31mKeyboardInterrupt\u001b[0m: ",
            "\nDuring handling of the above exception, another exception occurred:\n",
            "\u001b[0;31mKeyboardInterrupt\u001b[0m                         Traceback (most recent call last)",
            "\u001b[0;32m<ipython-input-20-ac4746f4e02d>\u001b[0m in \u001b[0;36m<module>\u001b[0;34m()\u001b[0m\n\u001b[1;32m    100\u001b[0m   \u001b[0mprint\u001b[0m\u001b[0;34m(\u001b[0m\u001b[0;34m'5) Mostra tutti'\u001b[0m\u001b[0;34m)\u001b[0m\u001b[0;34m\u001b[0m\u001b[0;34m\u001b[0m\u001b[0m\n\u001b[1;32m    101\u001b[0m   \u001b[0mprint\u001b[0m\u001b[0;34m(\u001b[0m\u001b[0;34m'6) Modifica'\u001b[0m\u001b[0;34m)\u001b[0m\u001b[0;34m\u001b[0m\u001b[0;34m\u001b[0m\u001b[0m\n\u001b[0;32m--> 102\u001b[0;31m   \u001b[0mscelta\u001b[0m\u001b[0;34m=\u001b[0m\u001b[0mint\u001b[0m\u001b[0;34m(\u001b[0m\u001b[0minput\u001b[0m\u001b[0;34m(\u001b[0m\u001b[0;34m'Scegli :'\u001b[0m\u001b[0;34m)\u001b[0m\u001b[0;34m)\u001b[0m\u001b[0;34m\u001b[0m\u001b[0;34m\u001b[0m\u001b[0m\n\u001b[0m\u001b[1;32m    103\u001b[0m   \u001b[0;32mif\u001b[0m \u001b[0mscelta\u001b[0m\u001b[0;34m==\u001b[0m\u001b[0;36m1\u001b[0m\u001b[0;34m:\u001b[0m\u001b[0;34m\u001b[0m\u001b[0;34m\u001b[0m\u001b[0m\n\u001b[1;32m    104\u001b[0m     \u001b[0mpopola\u001b[0m\u001b[0;34m(\u001b[0m\u001b[0;34m)\u001b[0m\u001b[0;34m\u001b[0m\u001b[0;34m\u001b[0m\u001b[0m\n",
            "\u001b[0;32m/usr/local/lib/python3.7/dist-packages/ipykernel/kernelbase.py\u001b[0m in \u001b[0;36mraw_input\u001b[0;34m(self, prompt)\u001b[0m\n\u001b[1;32m    702\u001b[0m             \u001b[0mself\u001b[0m\u001b[0;34m.\u001b[0m\u001b[0m_parent_ident\u001b[0m\u001b[0;34m,\u001b[0m\u001b[0;34m\u001b[0m\u001b[0;34m\u001b[0m\u001b[0m\n\u001b[1;32m    703\u001b[0m             \u001b[0mself\u001b[0m\u001b[0;34m.\u001b[0m\u001b[0m_parent_header\u001b[0m\u001b[0;34m,\u001b[0m\u001b[0;34m\u001b[0m\u001b[0;34m\u001b[0m\u001b[0m\n\u001b[0;32m--> 704\u001b[0;31m             \u001b[0mpassword\u001b[0m\u001b[0;34m=\u001b[0m\u001b[0;32mFalse\u001b[0m\u001b[0;34m,\u001b[0m\u001b[0;34m\u001b[0m\u001b[0;34m\u001b[0m\u001b[0m\n\u001b[0m\u001b[1;32m    705\u001b[0m         )\n\u001b[1;32m    706\u001b[0m \u001b[0;34m\u001b[0m\u001b[0m\n",
            "\u001b[0;32m/usr/local/lib/python3.7/dist-packages/ipykernel/kernelbase.py\u001b[0m in \u001b[0;36m_input_request\u001b[0;34m(self, prompt, ident, parent, password)\u001b[0m\n\u001b[1;32m    732\u001b[0m             \u001b[0;32mexcept\u001b[0m \u001b[0mKeyboardInterrupt\u001b[0m\u001b[0;34m:\u001b[0m\u001b[0;34m\u001b[0m\u001b[0;34m\u001b[0m\u001b[0m\n\u001b[1;32m    733\u001b[0m                 \u001b[0;31m# re-raise KeyboardInterrupt, to truncate traceback\u001b[0m\u001b[0;34m\u001b[0m\u001b[0;34m\u001b[0m\u001b[0;34m\u001b[0m\u001b[0m\n\u001b[0;32m--> 734\u001b[0;31m                 \u001b[0;32mraise\u001b[0m \u001b[0mKeyboardInterrupt\u001b[0m\u001b[0;34m\u001b[0m\u001b[0;34m\u001b[0m\u001b[0m\n\u001b[0m\u001b[1;32m    735\u001b[0m             \u001b[0;32melse\u001b[0m\u001b[0;34m:\u001b[0m\u001b[0;34m\u001b[0m\u001b[0;34m\u001b[0m\u001b[0m\n\u001b[1;32m    736\u001b[0m                 \u001b[0;32mbreak\u001b[0m\u001b[0;34m\u001b[0m\u001b[0;34m\u001b[0m\u001b[0m\n",
            "\u001b[0;31mKeyboardInterrupt\u001b[0m: "
          ]
        }
      ],
      "source": [
        "import pprint\n",
        "pp=pprint.PrettyPrinter(indent=4)\n",
        "contacts={}\n",
        "nome=cognome=telefono=indirizzo=email=\"\"\n",
        "\n",
        "def leggiDati():\n",
        "  global nome,cognome,telefono,indirizzo,email\n",
        "  nome=input(\"Inserisci il nome =\")\n",
        "  while len(nome)==0:\n",
        "    nome=input(\"Inserisci il nome =\")\n",
        "  cognome=input(\"Inserisci il cognome =\")\n",
        "  while len(cognome)==0:\n",
        "    cognome=input(\"Inserisci il cognome =\")\n",
        "  telefono=input(\"Inserisci il telefono =\")\n",
        "  while len(telefono)!=9:\n",
        "    telefono=input(\"Inserisci il telefono =\")\n",
        "  indirizzo=input(\"Inserisci indirizzo =\")\n",
        "  while len(indirizzo)==0:\n",
        "    indirizzo=input(\"Inserisci indirizzo =\")\n",
        "  email=input(\"Inserisci email (@ richiesta)\")\n",
        "  while len(email)==0 or \"@\" not in email:\n",
        "    email=input(\"Inserisci email (@ richiesta)\")\n",
        "  \n",
        "def leggiChiave():\n",
        "  global nome,cognome\n",
        "  nome=input(\"Inserisci il nome =\")\n",
        "  while len(nome)==0:\n",
        "    nome=input(\"Inserisci il nome =\")\n",
        "  cognome=input(\"Inserisci il cognome =\")\n",
        "  while len(cognome)==0:\n",
        "    cognome=input(\"Inserisci il cognome =\")\n",
        "\n",
        "def popola():\n",
        "   i=int(input(\"Quanti contatti vuoi inserire?\"))\n",
        "   for cont in range (1,i+1):\n",
        "     print(f\"Inserimento {cont} contatto:\")\n",
        "     leggiDati()\n",
        "     chiave=cognome+\" \"+nome\n",
        "     valore=[telefono,indirizzo,email]\n",
        "     if len(contacts)!=0:\n",
        "       if valore[0] in contacts[chiave]:\n",
        "         print(\"Contatto già presente\")\n",
        "     else:\n",
        "       contacts[chiave]=valore\n",
        "       dfdpp.pprint(contacts)\n",
        "\n",
        "def aggiungi():\n",
        "    print(\"Aggiunta di un singolo contatto\")\n",
        "    leggiDati()\n",
        "    chiave=cognome+\" \"+nome\n",
        "    valore=[telefono,indirizzo,email]\n",
        "    if len(contacts)!=0:\n",
        "      if valore[0] in contacts[chiave]:\n",
        "        print(\"Contatto già presente\")\n",
        "    else: \n",
        "       contacts[chiave]=valore\n",
        "       pp.pprint(contacts)\n",
        "def elimina():\n",
        "  print('Eliminazione di un contatto')\n",
        "  leggiChiave()\n",
        "  chiave=cognome+\" \"+nome\n",
        "  if chiave in contacts.keys():\n",
        "    del contacts[chiave]\n",
        "    print(\"Contatto cancellato\")\n",
        "  else:\n",
        "    print(\"Chiave non trovata\")\n",
        "    pp.pprint(contacts)\n",
        "def cerca():\n",
        "  print('Cerca un contatto')\n",
        "  leggiChiave()\n",
        "  chiave=cognome+\" \"+nome\n",
        "  if chiave in contacts.keys():\n",
        "    print(\"Contatto trovato: \")\n",
        "    pp.pprint(contacts[chiave])\n",
        "  else:\n",
        "    print(\"Contatto non trovato\")\n",
        "def tutti():\n",
        "  print('Mostra tutti i contatti')\n",
        "  pp.pprint(contacts)\n",
        "def modifica():\n",
        "  print('Modifica di un contatto')\n",
        "  leggiChiave()\n",
        "  chiave=cognome+\" \"+nome\n",
        "  if chiave in contacts.keys():\n",
        "    print(\"Contatto trovato: \")\n",
        "    leggiDati()\n",
        "    valore=[telefono,indirizzo,email]\n",
        "    contacts[chiave]=valore\n",
        "    pp.pprint(contacts)\n",
        "  else:\n",
        "    print(\"Contatto non trovato\")\n",
        "\n",
        "scelta=1\n",
        "while (scelta!=0):\n",
        "  print('0) Esci')\n",
        "  print('1) Popola')\n",
        "  print('2) Aggiungi')\n",
        "  print('3) Elimina')\n",
        "  print('4) Cerca')\n",
        "  print('5) Mostra tutti')\n",
        "  print('6) Modifica')\n",
        "  scelta=int(input('Scegli :'))\n",
        "  if scelta==1:\n",
        "    popola()\n",
        "  elif scelta==2:\n",
        "    aggiungi()\n",
        "  elif scelta==3:\n",
        "    elimina()\n",
        "  elif scelta==4:\n",
        "    cerca()\n",
        "  elif scelta==5:\n",
        "    tutti()\n",
        "  elif scelta==6:\n",
        "    modifica()"
      ]
    }
  ],
  "metadata": {
    "colab": {
      "collapsed_sections": [],
      "name": "Brian zaniolo_di 03_ns_collections_exercises.ipynb",
      "provenance": []
    },
    "kernelspec": {
      "display_name": "Python 3",
      "language": "python",
      "name": "python3"
    },
    "language_info": {
      "codemirror_mode": {
        "name": "ipython",
        "version": 3
      },
      "file_extension": ".py",
      "mimetype": "text/x-python",
      "name": "python",
      "nbconvert_exporter": "python",
      "pygments_lexer": "ipython3",
      "version": "3.7.4"
    }
  },
  "nbformat": 4,
  "nbformat_minor": 0
}
